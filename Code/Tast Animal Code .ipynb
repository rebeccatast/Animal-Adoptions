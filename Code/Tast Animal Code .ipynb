{
 "cells": [
  {
   "cell_type": "code",
   "execution_count": 28,
   "metadata": {},
   "outputs": [
    {
     "name": "stdout",
     "output_type": "stream",
     "text": [
      "Requirement already satisfied: petpy in ./opt/anaconda3/lib/python3.8/site-packages (2.2.1)\n",
      "Requirement already satisfied: requests>=2.18.4 in ./opt/anaconda3/lib/python3.8/site-packages (from petpy) (2.24.0)\n",
      "Requirement already satisfied: pandas>=0.22.0 in ./opt/anaconda3/lib/python3.8/site-packages (from petpy) (1.0.5)\n",
      "Requirement already satisfied: certifi>=2017.4.17 in ./opt/anaconda3/lib/python3.8/site-packages (from requests>=2.18.4->petpy) (2020.6.20)\n",
      "Requirement already satisfied: urllib3!=1.25.0,!=1.25.1,<1.26,>=1.21.1 in ./opt/anaconda3/lib/python3.8/site-packages (from requests>=2.18.4->petpy) (1.25.9)\n",
      "Requirement already satisfied: chardet<4,>=3.0.2 in ./opt/anaconda3/lib/python3.8/site-packages (from requests>=2.18.4->petpy) (3.0.4)\n",
      "Requirement already satisfied: idna<3,>=2.5 in ./opt/anaconda3/lib/python3.8/site-packages (from requests>=2.18.4->petpy) (2.10)\n",
      "Requirement already satisfied: pytz>=2017.2 in ./opt/anaconda3/lib/python3.8/site-packages (from pandas>=0.22.0->petpy) (2020.1)\n",
      "Requirement already satisfied: python-dateutil>=2.6.1 in ./opt/anaconda3/lib/python3.8/site-packages (from pandas>=0.22.0->petpy) (2.8.1)\n",
      "Requirement already satisfied: numpy>=1.13.3 in ./opt/anaconda3/lib/python3.8/site-packages (from pandas>=0.22.0->petpy) (1.18.5)\n",
      "Requirement already satisfied: six>=1.5 in ./opt/anaconda3/lib/python3.8/site-packages (from python-dateutil>=2.6.1->pandas>=0.22.0->petpy) (1.15.0)\n",
      "Note: you may need to restart the kernel to use updated packages.\n"
     ]
    }
   ],
   "source": [
    "pip install petpy"
   ]
  },
  {
   "cell_type": "code",
   "execution_count": 29,
   "metadata": {},
   "outputs": [],
   "source": [
    "#Set Dependencies\n",
    "import pandas as pd\n",
    "import numpy as np\n",
    "import csv\n",
    "import petpy\n",
    "import matplotlib.pyplot as plt\n",
    "from scipy.stats import linregress"
   ]
  },
  {
   "cell_type": "code",
   "execution_count": 30,
   "metadata": {},
   "outputs": [],
   "source": [
    "#Import CSV\n",
    "merged_csv = \"/users/rebeccatast/desktop/Animal-Adoptions/resources/merged_data.csv\"\n",
    "\n",
    "#Read CSV\n",
    "SA_Shelter = pd.read_csv(merged_csv)"
   ]
  },
  {
   "cell_type": "code",
   "execution_count": 31,
   "metadata": {},
   "outputs": [
    {
     "data": {
      "text/html": [
       "<div>\n",
       "<style scoped>\n",
       "    .dataframe tbody tr th:only-of-type {\n",
       "        vertical-align: middle;\n",
       "    }\n",
       "\n",
       "    .dataframe tbody tr th {\n",
       "        vertical-align: top;\n",
       "    }\n",
       "\n",
       "    .dataframe thead th {\n",
       "        text-align: right;\n",
       "    }\n",
       "</style>\n",
       "<table border=\"1\" class=\"dataframe\">\n",
       "  <thead>\n",
       "    <tr style=\"text-align: right;\">\n",
       "      <th></th>\n",
       "      <th>id.1</th>\n",
       "      <th>organization_id</th>\n",
       "      <th>age</th>\n",
       "      <th>gender</th>\n",
       "      <th>size</th>\n",
       "      <th>coat</th>\n",
       "      <th>tags</th>\n",
       "      <th>name_x</th>\n",
       "      <th>description</th>\n",
       "      <th>status</th>\n",
       "      <th>...</th>\n",
       "      <th>colors.primary</th>\n",
       "      <th>attributes.spayed_neutered</th>\n",
       "      <th>attributes.house_trained</th>\n",
       "      <th>attributes.special_needs</th>\n",
       "      <th>attributes.shots_current</th>\n",
       "      <th>contact.address.city</th>\n",
       "      <th>contact.address.postcode</th>\n",
       "      <th>animal_id</th>\n",
       "      <th>organization_id.1</th>\n",
       "      <th>name_y</th>\n",
       "    </tr>\n",
       "  </thead>\n",
       "  <tbody>\n",
       "    <tr>\n",
       "      <th>0</th>\n",
       "      <td>49799665</td>\n",
       "      <td>TX1818</td>\n",
       "      <td>Baby</td>\n",
       "      <td>Female</td>\n",
       "      <td>Medium</td>\n",
       "      <td>NaN</td>\n",
       "      <td>[]</td>\n",
       "      <td>gd Nyx</td>\n",
       "      <td>You can fill out an adoption application onlin...</td>\n",
       "      <td>adopted</td>\n",
       "      <td>...</td>\n",
       "      <td>NaN</td>\n",
       "      <td>True</td>\n",
       "      <td>False</td>\n",
       "      <td>False</td>\n",
       "      <td>False</td>\n",
       "      <td>Pipe Creek</td>\n",
       "      <td>78063</td>\n",
       "      <td>49799665</td>\n",
       "      <td>TX1818</td>\n",
       "      <td>A Doggie 4 You</td>\n",
       "    </tr>\n",
       "    <tr>\n",
       "      <th>1</th>\n",
       "      <td>49799666</td>\n",
       "      <td>TX1818</td>\n",
       "      <td>Adult</td>\n",
       "      <td>Male</td>\n",
       "      <td>Small</td>\n",
       "      <td>NaN</td>\n",
       "      <td>[]</td>\n",
       "      <td>Rogue</td>\n",
       "      <td>You can fill out an adoption application onlin...</td>\n",
       "      <td>adopted</td>\n",
       "      <td>...</td>\n",
       "      <td>NaN</td>\n",
       "      <td>True</td>\n",
       "      <td>True</td>\n",
       "      <td>False</td>\n",
       "      <td>False</td>\n",
       "      <td>Pipe Creek</td>\n",
       "      <td>78063</td>\n",
       "      <td>49799666</td>\n",
       "      <td>TX1818</td>\n",
       "      <td>A Doggie 4 You</td>\n",
       "    </tr>\n",
       "    <tr>\n",
       "      <th>2</th>\n",
       "      <td>49798311</td>\n",
       "      <td>TX1818</td>\n",
       "      <td>Young</td>\n",
       "      <td>Male</td>\n",
       "      <td>Small</td>\n",
       "      <td>NaN</td>\n",
       "      <td>[]</td>\n",
       "      <td>Todd</td>\n",
       "      <td>You can fill out an adoption application onlin...</td>\n",
       "      <td>adopted</td>\n",
       "      <td>...</td>\n",
       "      <td>NaN</td>\n",
       "      <td>True</td>\n",
       "      <td>True</td>\n",
       "      <td>False</td>\n",
       "      <td>True</td>\n",
       "      <td>Pipe Creek</td>\n",
       "      <td>78063</td>\n",
       "      <td>49798311</td>\n",
       "      <td>TX1818</td>\n",
       "      <td>A Doggie 4 You</td>\n",
       "    </tr>\n",
       "    <tr>\n",
       "      <th>3</th>\n",
       "      <td>49798148</td>\n",
       "      <td>TX1818</td>\n",
       "      <td>Young</td>\n",
       "      <td>Male</td>\n",
       "      <td>Small</td>\n",
       "      <td>NaN</td>\n",
       "      <td>[]</td>\n",
       "      <td>O'Ryan</td>\n",
       "      <td>You can fill out an adoption application onlin...</td>\n",
       "      <td>adopted</td>\n",
       "      <td>...</td>\n",
       "      <td>NaN</td>\n",
       "      <td>True</td>\n",
       "      <td>False</td>\n",
       "      <td>False</td>\n",
       "      <td>False</td>\n",
       "      <td>Pipe Creek</td>\n",
       "      <td>78063</td>\n",
       "      <td>49798148</td>\n",
       "      <td>TX1818</td>\n",
       "      <td>A Doggie 4 You</td>\n",
       "    </tr>\n",
       "    <tr>\n",
       "      <th>4</th>\n",
       "      <td>49794961</td>\n",
       "      <td>TX1207</td>\n",
       "      <td>Young</td>\n",
       "      <td>Female</td>\n",
       "      <td>Medium</td>\n",
       "      <td>NaN</td>\n",
       "      <td>[]</td>\n",
       "      <td>Sophia</td>\n",
       "      <td>** This dog is in a foster home in San Antonio...</td>\n",
       "      <td>adopted</td>\n",
       "      <td>...</td>\n",
       "      <td>NaN</td>\n",
       "      <td>True</td>\n",
       "      <td>False</td>\n",
       "      <td>False</td>\n",
       "      <td>True</td>\n",
       "      <td>Helotes</td>\n",
       "      <td>78023</td>\n",
       "      <td>49794961</td>\n",
       "      <td>TX1207</td>\n",
       "      <td>San Antonio Great Dane Rescue</td>\n",
       "    </tr>\n",
       "  </tbody>\n",
       "</table>\n",
       "<p>5 rows × 24 columns</p>\n",
       "</div>"
      ],
      "text/plain": [
       "       id.1 organization_id    age  gender    size coat tags  name_x  \\\n",
       "0  49799665          TX1818   Baby  Female  Medium  NaN   []  gd Nyx   \n",
       "1  49799666          TX1818  Adult    Male   Small  NaN   []   Rogue   \n",
       "2  49798311          TX1818  Young    Male   Small  NaN   []    Todd   \n",
       "3  49798148          TX1818  Young    Male   Small  NaN   []  O'Ryan   \n",
       "4  49794961          TX1207  Young  Female  Medium  NaN   []  Sophia   \n",
       "\n",
       "                                         description   status  ...  \\\n",
       "0  You can fill out an adoption application onlin...  adopted  ...   \n",
       "1  You can fill out an adoption application onlin...  adopted  ...   \n",
       "2  You can fill out an adoption application onlin...  adopted  ...   \n",
       "3  You can fill out an adoption application onlin...  adopted  ...   \n",
       "4  ** This dog is in a foster home in San Antonio...  adopted  ...   \n",
       "\n",
       "  colors.primary attributes.spayed_neutered  attributes.house_trained  \\\n",
       "0            NaN                       True                     False   \n",
       "1            NaN                       True                      True   \n",
       "2            NaN                       True                      True   \n",
       "3            NaN                       True                     False   \n",
       "4            NaN                       True                     False   \n",
       "\n",
       "  attributes.special_needs attributes.shots_current  contact.address.city  \\\n",
       "0                    False                    False            Pipe Creek   \n",
       "1                    False                    False            Pipe Creek   \n",
       "2                    False                     True            Pipe Creek   \n",
       "3                    False                    False            Pipe Creek   \n",
       "4                    False                     True               Helotes   \n",
       "\n",
       "   contact.address.postcode  animal_id  organization_id.1  \\\n",
       "0                     78063   49799665             TX1818   \n",
       "1                     78063   49799666             TX1818   \n",
       "2                     78063   49798311             TX1818   \n",
       "3                     78063   49798148             TX1818   \n",
       "4                     78023   49794961             TX1207   \n",
       "\n",
       "                          name_y  \n",
       "0                 A Doggie 4 You  \n",
       "1                 A Doggie 4 You  \n",
       "2                 A Doggie 4 You  \n",
       "3                 A Doggie 4 You  \n",
       "4  San Antonio Great Dane Rescue  \n",
       "\n",
       "[5 rows x 24 columns]"
      ]
     },
     "execution_count": 31,
     "metadata": {},
     "output_type": "execute_result"
    }
   ],
   "source": [
    "SA_Shelter.head()"
   ]
  },
  {
   "cell_type": "code",
   "execution_count": 32,
   "metadata": {},
   "outputs": [
    {
     "name": "stdout",
     "output_type": "stream",
     "text": [
      "7478\n"
     ]
    }
   ],
   "source": [
    "#Total Number of Dogs\n",
    "total_dogs = len(SA_Shelter[\"animal_id\"].unique())\n",
    "print(total_dogs)\n"
   ]
  },
  {
   "cell_type": "code",
   "execution_count": 33,
   "metadata": {},
   "outputs": [
    {
     "name": "stdout",
     "output_type": "stream",
     "text": [
      "7478\n"
     ]
    }
   ],
   "source": [
    "#Check for duplicates\n",
    "SA_Shelter = SA_Shelter.drop_duplicates(subset=[\"animal_id\"], keep =\"last\")\n",
    "print(len(SA_Shelter))"
   ]
  },
  {
   "cell_type": "code",
   "execution_count": 34,
   "metadata": {},
   "outputs": [
    {
     "name": "stdout",
     "output_type": "stream",
     "text": [
      "123\n"
     ]
    }
   ],
   "source": [
    "#Total Shelters in Sample\n",
    "total_shelters = len(SA_Shelter[\"organization_id\"].unique())\n",
    "\n",
    "print(total_shelters)"
   ]
  },
  {
   "cell_type": "code",
   "execution_count": 35,
   "metadata": {},
   "outputs": [
    {
     "data": {
      "text/plain": [
       "Male      3748\n",
       "Female    3730\n",
       "Name: gender, dtype: int64"
      ]
     },
     "execution_count": 35,
     "metadata": {},
     "output_type": "execute_result"
    }
   ],
   "source": [
    "#Sort All Shelter Information by Gender\n",
    "true_mf1 = SA_Shelter.loc[:, \"gender\"]\n",
    "true_mf2 = true_mf1.value_counts()\n",
    "true_mf2"
   ]
  },
  {
   "cell_type": "code",
   "execution_count": 36,
   "metadata": {},
   "outputs": [
    {
     "data": {
      "image/png": "[encoded data removed]",
      "text/plain": [
       "<Figure size 432x288 with 1 Axes>"
      ]
     },
     "metadata": {},
     "output_type": "display_data"
    }
   ],
   "source": [
    "#Pie Chart Using Pandas for All Shelter Information by Gender\n",
    "true_mf2.plot(kind=\"pie\",shadow = True, startangle=140,figsize=(6,4), autopct='%1.1f%%')\n",
    "plt.axis(\"equal\")\n",
    "plt.show()"
   ]
  },
  {
   "cell_type": "code",
   "execution_count": 37,
   "metadata": {
    "scrolled": true
   },
   "outputs": [
    {
     "name": "stdout",
     "output_type": "stream",
     "text": [
      "status     gender\n",
      "adoptable  Female     725\n",
      "           Male       929\n",
      "adopted    Female    3005\n",
      "           Male      2819\n",
      "dtype: int64\n"
     ]
    }
   ],
   "source": [
    "#Gender by status\n",
    "group_gender = SA_Shelter.groupby([\"status\",\"gender\"]).size()\n",
    "print(group_gender)"
   ]
  },
  {
   "cell_type": "code",
   "execution_count": 38,
   "metadata": {},
   "outputs": [
    {
     "data": {
      "image/png": "[encoded data removed]",
      "text/plain": [
       "<Figure size 432x288 with 1 Axes>"
      ]
     },
     "metadata": {},
     "output_type": "display_data"
    }
   ],
   "source": [
    "#Pie Chart Using Pyplot Gender Adopted\n",
    "Gender = [\"Male\", \"Female\"]\n",
    "numbers = [2819,3005]\n",
    "colors = [\"steelblue\",\"darkorange\"]\n",
    "explode = (0,0)\n",
    "\n",
    "#Create Pie Chart Using the Above Data\n",
    "plt.ylabel(\"Adopted Dogs Gender\")\n",
    "plt.pie(numbers, explode=explode, labels= Gender, colors=colors,\n",
    "        autopct=\"%1.1f%%\", shadow=True, startangle=140)\n",
    "\n",
    "# Create axes which are equal so we have a perfect circle\n",
    "plt.axis(\"equal\")\n",
    "plt.show()"
   ]
  },
  {
   "cell_type": "code",
   "execution_count": 39,
   "metadata": {},
   "outputs": [
    {
     "data": {
      "image/png": "[encoded data removed]",
      "text/plain": [
       "<Figure size 432x288 with 1 Axes>"
      ]
     },
     "metadata": {},
     "output_type": "display_data"
    }
   ],
   "source": [
    "#Pie Chart Using Pyplot Gender Adoptable\n",
    "Gender = [\"Male\", \"Female\"]\n",
    "numbers = [929,725]\n",
    "colors = [\"steelblue\",\"darkorange\"]\n",
    "explode = (0,0)\n",
    "\n",
    "#Create Pie Chart Using the Above Data\n",
    "plt.ylabel(\"Adoptable Dogs Gender\")\n",
    "plt.pie(numbers, explode=explode, labels= Gender, colors=colors,\n",
    "        autopct=\"%1.1f%%\", shadow=True, startangle=140)\n",
    "\n",
    "# Create axes which are equal so we have a perfect circle\n",
    "plt.axis(\"equal\")\n",
    "plt.show()"
   ]
  },
  {
   "cell_type": "code",
   "execution_count": 40,
   "metadata": {
    "scrolled": true
   },
   "outputs": [
    {
     "name": "stdout",
     "output_type": "stream",
     "text": [
      "                           breeds.primary\n",
      "breeds.primary                           \n",
      "Affenpinscher                           4\n",
      "Afghan Hound                            1\n",
      "Airedale Terrier                       11\n",
      "Akbash                                  2\n",
      "Akita                                   7\n",
      "...                                   ...\n",
      "Wire Fox Terrier                        3\n",
      "Wirehaired Dachshund                    3\n",
      "Wirehaired Terrier                     23\n",
      "Yellow Labrador Retriever              17\n",
      "Yorkshire Terrier                      48\n",
      "\n",
      "[165 rows x 1 columns]\n"
     ]
    }
   ],
   "source": [
    "#Dataframe grouping by the Breed Column\n",
    "dog_breeds = SA_Shelter.groupby(\"breeds.primary\")\n",
    "\n",
    "# Count the number of data points for each primary breed\n",
    "dog_breeds_count = pd.DataFrame(dog_breeds[\"breeds.primary\"].count())\n",
    "\n",
    "print(dog_breeds_count)\n"
   ]
  },
  {
   "cell_type": "code",
   "execution_count": 41,
   "metadata": {},
   "outputs": [
    {
     "data": {
      "text/plain": [
       "breeds.primary    815\n",
       "dtype: int64"
      ]
     },
     "execution_count": 41,
     "metadata": {},
     "output_type": "execute_result"
    }
   ],
   "source": [
    "dog_breeds_count.max()"
   ]
  },
  {
   "cell_type": "code",
   "execution_count": 42,
   "metadata": {},
   "outputs": [
    {
     "name": "stdout",
     "output_type": "stream",
     "text": [
      "           status\n",
      "status           \n",
      "adoptable    1654\n",
      "adopted      5824\n"
     ]
    }
   ],
   "source": [
    "#Create a dataframe grouping by adoption status\n",
    "dogs_status = SA_Shelter.groupby(\"status\")\n",
    "\n",
    "dogs_status_count = pd.DataFrame(dogs_status[\"status\"].size())\n",
    "\n",
    "print(dogs_status_count)\n",
    "\n"
   ]
  },
  {
   "cell_type": "code",
   "execution_count": 43,
   "metadata": {},
   "outputs": [
    {
     "name": "stdout",
     "output_type": "stream",
     "text": [
      "status     breeds.primary           \n",
      "adoptable  Affenpinscher                 3\n",
      "           Akita                         4\n",
      "           Alaskan Malamute              1\n",
      "           American Bulldog             24\n",
      "           American Bully                2\n",
      "                                        ..\n",
      "adopted    Wire Fox Terrier              1\n",
      "           Wirehaired Dachshund          3\n",
      "           Wirehaired Terrier           19\n",
      "           Yellow Labrador Retriever    11\n",
      "           Yorkshire Terrier            44\n",
      "Length: 255, dtype: int64\n"
     ]
    }
   ],
   "source": [
    "#Group by breed\n",
    "breed_count =SA_Shelter.groupby([\"status\",\"breeds.primary\"]).size()                      \n",
    "\n",
    "print(breed_count)"
   ]
  },
  {
   "cell_type": "code",
   "execution_count": 44,
   "metadata": {},
   "outputs": [],
   "source": [
    "#CSV Output for Breed Types by Status\n",
    "output_data_file_breed_count =\"/users/rebeccatast/desktop/Animal-Adoptions/breed_counts.csv\"\n",
    "breed_count.to_csv(output_data_file_breed_count, index_label=\"breeds.primary\")"
   ]
  },
  {
   "cell_type": "code",
   "execution_count": 45,
   "metadata": {},
   "outputs": [
    {
     "ename": "TypeError",
     "evalue": "sort_values() got an unexpected keyword argument 'by'",
     "output_type": "error",
     "traceback": [
      "\u001b[0;31m---------------------------------------------------------------------------\u001b[0m",
      "\u001b[0;31mTypeError\u001b[0m                                 Traceback (most recent call last)",
      "\u001b[0;32m<ipython-input-45-6cd4457616b3>\u001b[0m in \u001b[0;36m<module>\u001b[0;34m\u001b[0m\n\u001b[1;32m      1\u001b[0m \u001b[0;31m#Top 5 Breeds for Adopted and Adoptable\u001b[0m\u001b[0;34m\u001b[0m\u001b[0;34m\u001b[0m\u001b[0;34m\u001b[0m\u001b[0m\n\u001b[0;32m----> 2\u001b[0;31m \u001b[0mtop_five_breeds\u001b[0m \u001b[0;34m=\u001b[0m \u001b[0mbreed_count\u001b[0m\u001b[0;34m.\u001b[0m\u001b[0msort_values\u001b[0m\u001b[0;34m(\u001b[0m\u001b[0mby\u001b[0m \u001b[0;34m=\u001b[0m \u001b[0;34m[\u001b[0m\u001b[0;34m\"id.1\"\u001b[0m\u001b[0;34m,\u001b[0m\u001b[0;34m\"status\"\u001b[0m\u001b[0;34m]\u001b[0m\u001b[0;34m,\u001b[0m \u001b[0mascending\u001b[0m \u001b[0;34m=\u001b[0m\u001b[0;34m[\u001b[0m\u001b[0;32mFalse\u001b[0m\u001b[0;34m,\u001b[0m \u001b[0;32mFalse\u001b[0m\u001b[0;34m]\u001b[0m\u001b[0;34m)\u001b[0m\u001b[0;34m\u001b[0m\u001b[0;34m\u001b[0m\u001b[0m\n\u001b[0m\u001b[1;32m      3\u001b[0m \u001b[0mtop_five_breeds\u001b[0m\u001b[0;34m.\u001b[0m\u001b[0mhead\u001b[0m\u001b[0;34m(\u001b[0m\u001b[0;36m25\u001b[0m\u001b[0;34m)\u001b[0m\u001b[0;34m\u001b[0m\u001b[0;34m\u001b[0m\u001b[0m\n",
      "\u001b[0;31mTypeError\u001b[0m: sort_values() got an unexpected keyword argument 'by'"
     ]
    }
   ],
   "source": [
    "#Top 5 Breeds for Adopted and Adoptable\n",
    "top_five_breeds = breed_count.sort_values(by = [\"id.1\",\"status\"], ascending =[False, False])\n",
    "top_five_breeds.head(25)"
   ]
  },
  {
   "cell_type": "code",
   "execution_count": 46,
   "metadata": {},
   "outputs": [
    {
     "name": "stdout",
     "output_type": "stream",
     "text": [
      "                            attributes.spayed_neutered\n",
      "attributes.spayed_neutered                            \n",
      "False                                             1620\n",
      "True                                              5858\n"
     ]
    }
   ],
   "source": [
    "# Count of Spayed vs Neutered\n",
    "fixed_status = SA_Shelter.groupby(\"attributes.spayed_neutered\")\n",
    "\n",
    "fixed_status_count = pd.DataFrame(fixed_status[\"attributes.spayed_neutered\"].count())\n",
    "\n",
    "print(fixed_status_count)"
   ]
  },
  {
   "cell_type": "code",
   "execution_count": 47,
   "metadata": {},
   "outputs": [
    {
     "data": {
      "image/png": "[encoded data removed]",
      "text/plain": [
       "<Figure size 432x288 with 1 Axes>"
      ]
     },
     "metadata": {},
     "output_type": "display_data"
    }
   ],
   "source": [
    "#Pie Chart Using Pyplot Fixed Overall\n",
    "Spayed_Neutered = [\"Spayed/Neutered\", \"Intact\"]\n",
    "numbers = [5858,1620]\n",
    "colors = [\"steelblue\",\"darkorange\"]\n",
    "explode = (0,0)\n",
    "\n",
    "#Create Pie Chart Using the Above Data\n",
    "plt.ylabel(\"Overall Pecentages of Spayed/Neutered Dogs\")\n",
    "plt.pie(numbers, explode=explode, labels=Spayed_Neutered, colors=colors,\n",
    "        autopct=\"%1.1f%%\", shadow=True, startangle=140)\n",
    "\n",
    "# Create axes which are equal so we have a perfect circle\n",
    "plt.axis(\"equal\")\n",
    "plt.show()"
   ]
  },
  {
   "cell_type": "code",
   "execution_count": 48,
   "metadata": {},
   "outputs": [
    {
     "name": "stdout",
     "output_type": "stream",
     "text": [
      "status     attributes.spayed_neutered\n",
      "adoptable  False                          489\n",
      "           True                          1165\n",
      "adopted    False                         1131\n",
      "           True                          4693\n",
      "dtype: int64\n"
     ]
    }
   ],
   "source": [
    "#Fixed by Status\n",
    "group_fixed = SA_Shelter.groupby([\"status\",\"attributes.spayed_neutered\"]).size()\n",
    "print(group_fixed)"
   ]
  },
  {
   "cell_type": "code",
   "execution_count": 49,
   "metadata": {},
   "outputs": [
    {
     "data": {
      "image/png": "[encoded data removed]",
      "text/plain": [
       "<Figure size 432x288 with 1 Axes>"
      ]
     },
     "metadata": {},
     "output_type": "display_data"
    }
   ],
   "source": [
    "#Pie Chart Using Pyplot Fixed Adoptable\n",
    "Spayed_Neutered = [\"Spayed/Neutered\", \"Intact\"]\n",
    "numbers = [1165,489]\n",
    "colors = [\"steelblue\",\"darkorange\"]\n",
    "explode = (0,0)\n",
    "\n",
    "#Create Pie Chart Using the Above Data\n",
    "plt.ylabel(\"Overall Pecentages of Adoptable Spayed/Neutered Dogs\")\n",
    "plt.pie(numbers, explode=explode, labels=Spayed_Neutered, colors=colors,\n",
    "        autopct=\"%1.1f%%\", shadow=True, startangle=140)\n",
    "\n",
    "# Create axes which are equal so we have a perfect circle\n",
    "plt.axis(\"equal\")\n",
    "plt.show()"
   ]
  },
  {
   "cell_type": "code",
   "execution_count": 50,
   "metadata": {},
   "outputs": [
    {
     "data": {
      "image/png": "[encoded data removed]",
      "text/plain": [
       "<Figure size 432x288 with 1 Axes>"
      ]
     },
     "metadata": {},
     "output_type": "display_data"
    }
   ],
   "source": [
    "#Pie Chart Using Pyplot Fixed Adopted\n",
    "\n",
    "Spayed_Neutered = [\"Spayed/Neutered\", \"Intact\"]\n",
    "numbers = [4693,1131]\n",
    "colors = [\"steelblue\",\"darkorange\"]\n",
    "explode = (0,0)\n",
    "\n",
    "#Create Pie Chart Using the Above Data\n",
    "plt.ylabel(\"Overall Pecentages of Adopted Spayed/Neutered Dogs\")\n",
    "plt.pie(numbers, explode=explode, labels=Spayed_Neutered, colors=colors,\n",
    "        autopct=\"%1.1f%%\", shadow=True, startangle=140)\n",
    "\n",
    "# Create axes which are equal so we have a perfect circle\n",
    "plt.axis(\"equal\")\n",
    "plt.show()"
   ]
  },
  {
   "cell_type": "code",
   "execution_count": 51,
   "metadata": {
    "scrolled": true
   },
   "outputs": [
    {
     "data": {
      "text/plain": [
       "age\n",
       "Adult     2902\n",
       "Baby      2140\n",
       "Senior     402\n",
       "Young     2034\n",
       "dtype: int64"
      ]
     },
     "execution_count": 51,
     "metadata": {},
     "output_type": "execute_result"
    }
   ],
   "source": [
    "#Age Overall\n",
    "SA_Shelter.groupby(\"age\").size()  "
   ]
  },
  {
   "cell_type": "code",
   "execution_count": 52,
   "metadata": {
    "scrolled": true
   },
   "outputs": [
    {
     "data": {
      "text/html": [
       "<div>\n",
       "<style scoped>\n",
       "    .dataframe tbody tr th:only-of-type {\n",
       "        vertical-align: middle;\n",
       "    }\n",
       "\n",
       "    .dataframe tbody tr th {\n",
       "        vertical-align: top;\n",
       "    }\n",
       "\n",
       "    .dataframe thead th {\n",
       "        text-align: right;\n",
       "    }\n",
       "</style>\n",
       "<table border=\"1\" class=\"dataframe\">\n",
       "  <thead>\n",
       "    <tr style=\"text-align: right;\">\n",
       "      <th></th>\n",
       "      <th>Number</th>\n",
       "    </tr>\n",
       "  </thead>\n",
       "  <tbody>\n",
       "    <tr>\n",
       "      <th>Baby</th>\n",
       "      <td>2140</td>\n",
       "    </tr>\n",
       "    <tr>\n",
       "      <th>Young</th>\n",
       "      <td>2034</td>\n",
       "    </tr>\n",
       "    <tr>\n",
       "      <th>Adult</th>\n",
       "      <td>2902</td>\n",
       "    </tr>\n",
       "    <tr>\n",
       "      <th>Senior</th>\n",
       "      <td>402</td>\n",
       "    </tr>\n",
       "  </tbody>\n",
       "</table>\n",
       "</div>"
      ],
      "text/plain": [
       "        Number\n",
       "Baby      2140\n",
       "Young     2034\n",
       "Adult     2902\n",
       "Senior     402"
      ]
     },
     "execution_count": 52,
     "metadata": {},
     "output_type": "execute_result"
    }
   ],
   "source": [
    "#Age overall DataFrame\n",
    "dog_age = pd.DataFrame( {\"Number\":[2140, 2034, 2902, 402]},\n",
    "         index=[\"Baby\", \"Young\", \"Adult\", \"Senior\"]\n",
    ")\n",
    "dog_age.head()"
   ]
  },
  {
   "cell_type": "code",
   "execution_count": 53,
   "metadata": {},
   "outputs": [
    {
     "data": {
      "text/plain": [
       "Text(0, 0.5, 'Number of Dogs')"
      ]
     },
     "execution_count": 53,
     "metadata": {},
     "output_type": "execute_result"
    },
    {
     "data": {
      "image/png": "[encoded data removed]",
      "text/plain": [
       "<Figure size 432x288 with 1 Axes>"
      ]
     },
     "metadata": {
      "needs_background": "light"
     },
     "output_type": "display_data"
    }
   ],
   "source": [
    "#Bar graph of overall age data\n",
    "plotdata = pd.DataFrame({\n",
    "    \"Overall\":[2140, 2034, 2902, 402],\n",
    "    },  \n",
    "    index=[\"Baby\", \"Young\", \"Adult\", \"Senior\"]\n",
    ")\n",
    "plotdata.plot(kind=\"bar\", color=\"red\")\n",
    "plt.title(\"Overall Dog Ages\")\n",
    "plt.xlabel(\"Dog Ages\")\n",
    "plt.ylabel(\"Number of Dogs\")"
   ]
  },
  {
   "cell_type": "code",
   "execution_count": 54,
   "metadata": {},
   "outputs": [
    {
     "name": "stdout",
     "output_type": "stream",
     "text": [
      "age     status   \n",
      "Adult   adoptable     899\n",
      "        adopted      2003\n",
      "Baby    adoptable     150\n",
      "        adopted      1990\n",
      "Senior  adoptable     140\n",
      "        adopted       262\n",
      "Young   adoptable     465\n",
      "        adopted      1569\n",
      "dtype: int64\n"
     ]
    }
   ],
   "source": [
    "#Age by Status\n",
    "group_age = SA_Shelter.groupby([\"age\",\"status\"]).size()\n",
    "print(group_age)"
   ]
  },
  {
   "cell_type": "code",
   "execution_count": 55,
   "metadata": {},
   "outputs": [
    {
     "data": {
      "text/html": [
       "<div>\n",
       "<style scoped>\n",
       "    .dataframe tbody tr th:only-of-type {\n",
       "        vertical-align: middle;\n",
       "    }\n",
       "\n",
       "    .dataframe tbody tr th {\n",
       "        vertical-align: top;\n",
       "    }\n",
       "\n",
       "    .dataframe thead th {\n",
       "        text-align: right;\n",
       "    }\n",
       "</style>\n",
       "<table border=\"1\" class=\"dataframe\">\n",
       "  <thead>\n",
       "    <tr style=\"text-align: right;\">\n",
       "      <th></th>\n",
       "      <th>Adoptable</th>\n",
       "      <th>Adopted</th>\n",
       "    </tr>\n",
       "  </thead>\n",
       "  <tbody>\n",
       "    <tr>\n",
       "      <th>Baby</th>\n",
       "      <td>150</td>\n",
       "      <td>1990</td>\n",
       "    </tr>\n",
       "    <tr>\n",
       "      <th>Young</th>\n",
       "      <td>465</td>\n",
       "      <td>1569</td>\n",
       "    </tr>\n",
       "    <tr>\n",
       "      <th>Adult</th>\n",
       "      <td>899</td>\n",
       "      <td>2003</td>\n",
       "    </tr>\n",
       "    <tr>\n",
       "      <th>Senior</th>\n",
       "      <td>140</td>\n",
       "      <td>262</td>\n",
       "    </tr>\n",
       "  </tbody>\n",
       "</table>\n",
       "</div>"
      ],
      "text/plain": [
       "        Adoptable  Adopted\n",
       "Baby          150     1990\n",
       "Young         465     1569\n",
       "Adult         899     2003\n",
       "Senior        140      262"
      ]
     },
     "execution_count": 55,
     "metadata": {},
     "output_type": "execute_result"
    }
   ],
   "source": [
    "#Age by Status Bar Graphs\n",
    "status_age = pd.DataFrame({\n",
    "    \"Adoptable\":[150, 465, 899, 140],\n",
    "    \"Adopted\":[1990, 1569, 2003, 262]\n",
    "    }, \n",
    "    index=[\"Baby\", \"Young\", \"Adult\", \"Senior\"]\n",
    ")\n",
    "status_age.head()"
   ]
  },
  {
   "cell_type": "code",
   "execution_count": 56,
   "metadata": {},
   "outputs": [
    {
     "data": {
      "text/plain": [
       "Text(0, 0.5, 'Number of Dogs')"
      ]
     },
     "execution_count": 56,
     "metadata": {},
     "output_type": "execute_result"
    },
    {
     "data": {
      "image/png": "[encoded data removed]",
      "text/plain": [
       "<Figure size 432x288 with 1 Axes>"
      ]
     },
     "metadata": {
      "needs_background": "light"
     },
     "output_type": "display_data"
    }
   ],
   "source": [
    "plotdata = pd.DataFrame({\n",
    "    \"Adoptable\":[150, 465, 899, 140],\n",
    "    \"Adopted\":[1990, 1569, 2003, 262]\n",
    "    },  \n",
    "    index=[\"Baby\", \"Young\", \"Adult\", \"Senior\"]\n",
    ")\n",
    "plotdata.plot(kind=\"bar\")\n",
    "plt.title(\"Dog Age and Status\")\n",
    "plt.xlabel(\"Dog Ages\")\n",
    "plt.ylabel(\"Number of Dogs\")"
   ]
  },
  {
   "cell_type": "code",
   "execution_count": 57,
   "metadata": {},
   "outputs": [
    {
     "data": {
      "text/plain": [
       "size\n",
       "Extra Large     113\n",
       "Large          1320\n",
       "Medium         3742\n",
       "Small          2303\n",
       "dtype: int64"
      ]
     },
     "execution_count": 57,
     "metadata": {},
     "output_type": "execute_result"
    }
   ],
   "source": [
    "#Size Overall\n",
    "SA_Shelter.groupby(\"size\").size()\n"
   ]
  },
  {
   "cell_type": "code",
   "execution_count": 58,
   "metadata": {},
   "outputs": [
    {
     "data": {
      "text/plain": [
       "Medium         3742\n",
       "Small          2303\n",
       "Large          1320\n",
       "Extra Large     113\n",
       "Name: size, dtype: int64"
      ]
     },
     "execution_count": 58,
     "metadata": {},
     "output_type": "execute_result"
    }
   ],
   "source": [
    "#Sort All Shelter Information by Dog Size\n",
    "true_mf1 = SA_Shelter.loc[:, \"size\"]\n",
    "true_mf2 = true_mf1.value_counts()\n",
    "true_mf2"
   ]
  },
  {
   "cell_type": "code",
   "execution_count": 59,
   "metadata": {},
   "outputs": [
    {
     "data": {
      "image/png": "[encoded data removed]",
      "text/plain": [
       "<Figure size 576x360 with 1 Axes>"
      ]
     },
     "metadata": {},
     "output_type": "display_data"
    }
   ],
   "source": [
    "#Pie Chart Using Pandas for All Shelter Information by Size\n",
    "true_mf2.plot(kind=\"pie\",shadow = True, startangle=140,figsize=(8,5), autopct='%1.1f%%')\n",
    "plt.axis(\"equal\")\n",
    "plt.show()"
   ]
  },
  {
   "cell_type": "code",
   "execution_count": 60,
   "metadata": {},
   "outputs": [
    {
     "data": {
      "text/html": [
       "<div>\n",
       "<style scoped>\n",
       "    .dataframe tbody tr th:only-of-type {\n",
       "        vertical-align: middle;\n",
       "    }\n",
       "\n",
       "    .dataframe tbody tr th {\n",
       "        vertical-align: top;\n",
       "    }\n",
       "\n",
       "    .dataframe thead th {\n",
       "        text-align: right;\n",
       "    }\n",
       "</style>\n",
       "<table border=\"1\" class=\"dataframe\">\n",
       "  <thead>\n",
       "    <tr style=\"text-align: right;\">\n",
       "      <th></th>\n",
       "      <th>Overall</th>\n",
       "    </tr>\n",
       "  </thead>\n",
       "  <tbody>\n",
       "    <tr>\n",
       "      <th>Extra Large</th>\n",
       "      <td>113</td>\n",
       "    </tr>\n",
       "    <tr>\n",
       "      <th>Large</th>\n",
       "      <td>1320</td>\n",
       "    </tr>\n",
       "    <tr>\n",
       "      <th>Medium</th>\n",
       "      <td>3742</td>\n",
       "    </tr>\n",
       "    <tr>\n",
       "      <th>Small</th>\n",
       "      <td>2303</td>\n",
       "    </tr>\n",
       "  </tbody>\n",
       "</table>\n",
       "</div>"
      ],
      "text/plain": [
       "             Overall\n",
       "Extra Large      113\n",
       "Large           1320\n",
       "Medium          3742\n",
       "Small           2303"
      ]
     },
     "execution_count": 60,
     "metadata": {},
     "output_type": "execute_result"
    }
   ],
   "source": [
    "#Dog Size Dataframe\n",
    "dog_size = pd.DataFrame({\n",
    "    \"Overall\":[113, 1320, 3742, 2303],\n",
    "    }, \n",
    "    index=[\"Extra Large\", \"Large\", \"Medium\", \"Small\"]\n",
    ")\n",
    "dog_size.head()"
   ]
  },
  {
   "cell_type": "code",
   "execution_count": 61,
   "metadata": {},
   "outputs": [
    {
     "data": {
      "text/plain": [
       "Text(0, 0.5, 'Number of Dogs')"
      ]
     },
     "execution_count": 61,
     "metadata": {},
     "output_type": "execute_result"
    },
    {
     "data": {
      "image/png": "[encoded data removed]",
      "text/plain": [
       "<Figure size 432x288 with 1 Axes>"
      ]
     },
     "metadata": {
      "needs_background": "light"
     },
     "output_type": "display_data"
    }
   ],
   "source": [
    "plotdata = pd.DataFrame({\n",
    "    \"Overall\":[113, 1320, 3742, 2303],\n",
    "    }, \n",
    "    index=[\"Extra Large\", \"Large\", \"Medium\", \"Small\"]\n",
    ")\n",
    "plotdata.plot(kind=\"bar\", color =\"red\")\n",
    "plt.title(\"Overall Dog Sizes\")\n",
    "plt.xlabel(\"Dog Sizes\")\n",
    "plt.ylabel(\"Number of Dogs\")"
   ]
  },
  {
   "cell_type": "code",
   "execution_count": 62,
   "metadata": {},
   "outputs": [
    {
     "name": "stdout",
     "output_type": "stream",
     "text": [
      "size         status   \n",
      "Extra Large  adoptable      26\n",
      "             adopted        87\n",
      "Large        adoptable     405\n",
      "             adopted       915\n",
      "Medium       adoptable     852\n",
      "             adopted      2890\n",
      "Small        adoptable     371\n",
      "             adopted      1932\n",
      "dtype: int64\n"
     ]
    }
   ],
   "source": [
    "#Size by Status\n",
    "group_size_status = SA_Shelter.groupby([\"size\", \"status\"]).size()\n",
    "print(group_size_status)"
   ]
  },
  {
   "cell_type": "code",
   "execution_count": 63,
   "metadata": {
    "scrolled": true
   },
   "outputs": [
    {
     "data": {
      "text/html": [
       "<div>\n",
       "<style scoped>\n",
       "    .dataframe tbody tr th:only-of-type {\n",
       "        vertical-align: middle;\n",
       "    }\n",
       "\n",
       "    .dataframe tbody tr th {\n",
       "        vertical-align: top;\n",
       "    }\n",
       "\n",
       "    .dataframe thead th {\n",
       "        text-align: right;\n",
       "    }\n",
       "</style>\n",
       "<table border=\"1\" class=\"dataframe\">\n",
       "  <thead>\n",
       "    <tr style=\"text-align: right;\">\n",
       "      <th></th>\n",
       "      <th>Adoptable</th>\n",
       "      <th>Adopted</th>\n",
       "    </tr>\n",
       "  </thead>\n",
       "  <tbody>\n",
       "    <tr>\n",
       "      <th>Extra Large</th>\n",
       "      <td>26</td>\n",
       "      <td>87</td>\n",
       "    </tr>\n",
       "    <tr>\n",
       "      <th>Large</th>\n",
       "      <td>405</td>\n",
       "      <td>915</td>\n",
       "    </tr>\n",
       "    <tr>\n",
       "      <th>Medium</th>\n",
       "      <td>852</td>\n",
       "      <td>2890</td>\n",
       "    </tr>\n",
       "    <tr>\n",
       "      <th>Small</th>\n",
       "      <td>371</td>\n",
       "      <td>1932</td>\n",
       "    </tr>\n",
       "  </tbody>\n",
       "</table>\n",
       "</div>"
      ],
      "text/plain": [
       "             Adoptable  Adopted\n",
       "Extra Large         26       87\n",
       "Large              405      915\n",
       "Medium             852     2890\n",
       "Small              371     1932"
      ]
     },
     "execution_count": 63,
     "metadata": {},
     "output_type": "execute_result"
    }
   ],
   "source": [
    "status_size = pd.DataFrame({\n",
    "    \"Adoptable\":[26, 405, 852, 371],\n",
    "    \"Adopted\":[87, 915, 2890, 1932]\n",
    "    }, \n",
    "    index=[\"Extra Large\", \"Large\", \"Medium\", \"Small\"]\n",
    ")\n",
    "status_size.head()"
   ]
  },
  {
   "cell_type": "code",
   "execution_count": 64,
   "metadata": {
    "scrolled": true
   },
   "outputs": [
    {
     "data": {
      "text/plain": [
       "Text(0, 0.5, 'Number of Dogs')"
      ]
     },
     "execution_count": 64,
     "metadata": {},
     "output_type": "execute_result"
    },
    {
     "data": {
      "image/png": "[encoded data removed]",
      "text/plain": [
       "<Figure size 432x288 with 1 Axes>"
      ]
     },
     "metadata": {
      "needs_background": "light"
     },
     "output_type": "display_data"
    }
   ],
   "source": [
    "plotdata = pd.DataFrame({\n",
    "    \"adoptable\":[26, 405, 852, 371],\n",
    "    \"adopted\":[87, 915, 2890, 1932]\n",
    "    }, \n",
    "    index=[\"Extra Large\", \"Large\", \"Medium\", \"Small\"]\n",
    ")\n",
    "plotdata.plot(kind=\"bar\")\n",
    "plt.title(\"Dog Size and Status\")\n",
    "plt.xlabel(\"Dog Sizes\")\n",
    "plt.ylabel(\"Number of Dogs\")"
   ]
  },
  {
   "cell_type": "code",
   "execution_count": null,
   "metadata": {},
   "outputs": [],
   "source": []
  },
  {
   "cell_type": "code",
   "execution_count": null,
   "metadata": {},
   "outputs": [],
   "source": []
  }
 ],
 "metadata": {
  "kernelspec": {
   "display_name": "Python 3",
   "language": "python",
   "name": "python3"
  },
  "language_info": {
   "codemirror_mode": {
    "name": "ipython",
    "version": 3
   },
   "file_extension": ".py",
   "mimetype": "text/x-python",
   "name": "python",
   "nbconvert_exporter": "python",
   "pygments_lexer": "ipython3",
   "version": "3.8.3"
  }
 },
 "nbformat": 4,
 "nbformat_minor": 4
}
