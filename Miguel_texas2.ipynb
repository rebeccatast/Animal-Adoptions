{
 "cells": [
  {
   "cell_type": "code",
   "execution_count": 114,
   "metadata": {},
   "outputs": [
    {
     "data": {
      "text/html": [
       "<div>\n",
       "<style scoped>\n",
       "    .dataframe tbody tr th:only-of-type {\n",
       "        vertical-align: middle;\n",
       "    }\n",
       "\n",
       "    .dataframe tbody tr th {\n",
       "        vertical-align: top;\n",
       "    }\n",
       "\n",
       "    .dataframe thead th {\n",
       "        text-align: right;\n",
       "    }\n",
       "</style>\n",
       "<table border=\"1\" class=\"dataframe\">\n",
       "  <thead>\n",
       "    <tr style=\"text-align: right;\">\n",
       "      <th></th>\n",
       "      <th>id.1</th>\n",
       "      <th>organization_id</th>\n",
       "      <th>age</th>\n",
       "      <th>gender</th>\n",
       "      <th>size</th>\n",
       "      <th>coat</th>\n",
       "      <th>tags</th>\n",
       "      <th>name_x</th>\n",
       "      <th>description</th>\n",
       "      <th>status</th>\n",
       "      <th>...</th>\n",
       "      <th>colors.primary</th>\n",
       "      <th>attributes.spayed_neutered</th>\n",
       "      <th>attributes.house_trained</th>\n",
       "      <th>special_needs</th>\n",
       "      <th>shots_current</th>\n",
       "      <th>contact.address.city</th>\n",
       "      <th>contact.address.postcode</th>\n",
       "      <th>animal_id</th>\n",
       "      <th>organization_id.1</th>\n",
       "      <th>name_y</th>\n",
       "    </tr>\n",
       "  </thead>\n",
       "  <tbody>\n",
       "    <tr>\n",
       "      <th>0</th>\n",
       "      <td>49799665</td>\n",
       "      <td>TX1818</td>\n",
       "      <td>Baby</td>\n",
       "      <td>Female</td>\n",
       "      <td>Medium</td>\n",
       "      <td>NaN</td>\n",
       "      <td>[]</td>\n",
       "      <td>gd Nyx</td>\n",
       "      <td>You can fill out an adoption application onlin...</td>\n",
       "      <td>adopted</td>\n",
       "      <td>...</td>\n",
       "      <td>NaN</td>\n",
       "      <td>True</td>\n",
       "      <td>False</td>\n",
       "      <td>False</td>\n",
       "      <td>False</td>\n",
       "      <td>Pipe Creek</td>\n",
       "      <td>78063</td>\n",
       "      <td>49799665</td>\n",
       "      <td>TX1818</td>\n",
       "      <td>A Doggie 4 You</td>\n",
       "    </tr>\n",
       "    <tr>\n",
       "      <th>1</th>\n",
       "      <td>49799666</td>\n",
       "      <td>TX1818</td>\n",
       "      <td>Adult</td>\n",
       "      <td>Male</td>\n",
       "      <td>Small</td>\n",
       "      <td>NaN</td>\n",
       "      <td>[]</td>\n",
       "      <td>Rogue</td>\n",
       "      <td>You can fill out an adoption application onlin...</td>\n",
       "      <td>adopted</td>\n",
       "      <td>...</td>\n",
       "      <td>NaN</td>\n",
       "      <td>True</td>\n",
       "      <td>True</td>\n",
       "      <td>False</td>\n",
       "      <td>False</td>\n",
       "      <td>Pipe Creek</td>\n",
       "      <td>78063</td>\n",
       "      <td>49799666</td>\n",
       "      <td>TX1818</td>\n",
       "      <td>A Doggie 4 You</td>\n",
       "    </tr>\n",
       "    <tr>\n",
       "      <th>2</th>\n",
       "      <td>49798311</td>\n",
       "      <td>TX1818</td>\n",
       "      <td>Young</td>\n",
       "      <td>Male</td>\n",
       "      <td>Small</td>\n",
       "      <td>NaN</td>\n",
       "      <td>[]</td>\n",
       "      <td>Todd</td>\n",
       "      <td>You can fill out an adoption application onlin...</td>\n",
       "      <td>adopted</td>\n",
       "      <td>...</td>\n",
       "      <td>NaN</td>\n",
       "      <td>True</td>\n",
       "      <td>True</td>\n",
       "      <td>False</td>\n",
       "      <td>True</td>\n",
       "      <td>Pipe Creek</td>\n",
       "      <td>78063</td>\n",
       "      <td>49798311</td>\n",
       "      <td>TX1818</td>\n",
       "      <td>A Doggie 4 You</td>\n",
       "    </tr>\n",
       "    <tr>\n",
       "      <th>3</th>\n",
       "      <td>49798148</td>\n",
       "      <td>TX1818</td>\n",
       "      <td>Young</td>\n",
       "      <td>Male</td>\n",
       "      <td>Small</td>\n",
       "      <td>NaN</td>\n",
       "      <td>[]</td>\n",
       "      <td>O'Ryan</td>\n",
       "      <td>You can fill out an adoption application onlin...</td>\n",
       "      <td>adopted</td>\n",
       "      <td>...</td>\n",
       "      <td>NaN</td>\n",
       "      <td>True</td>\n",
       "      <td>False</td>\n",
       "      <td>False</td>\n",
       "      <td>False</td>\n",
       "      <td>Pipe Creek</td>\n",
       "      <td>78063</td>\n",
       "      <td>49798148</td>\n",
       "      <td>TX1818</td>\n",
       "      <td>A Doggie 4 You</td>\n",
       "    </tr>\n",
       "    <tr>\n",
       "      <th>4</th>\n",
       "      <td>49794961</td>\n",
       "      <td>TX1207</td>\n",
       "      <td>Young</td>\n",
       "      <td>Female</td>\n",
       "      <td>Medium</td>\n",
       "      <td>NaN</td>\n",
       "      <td>[]</td>\n",
       "      <td>Sophia</td>\n",
       "      <td>** This dog is in a foster home in San Antonio...</td>\n",
       "      <td>adopted</td>\n",
       "      <td>...</td>\n",
       "      <td>NaN</td>\n",
       "      <td>True</td>\n",
       "      <td>False</td>\n",
       "      <td>False</td>\n",
       "      <td>True</td>\n",
       "      <td>Helotes</td>\n",
       "      <td>78023</td>\n",
       "      <td>49794961</td>\n",
       "      <td>TX1207</td>\n",
       "      <td>San Antonio Great Dane Rescue</td>\n",
       "    </tr>\n",
       "  </tbody>\n",
       "</table>\n",
       "<p>5 rows × 24 columns</p>\n",
       "</div>"
      ],
      "text/plain": [
       "       id.1 organization_id    age  gender    size coat tags  name_x  \\\n",
       "0  49799665          TX1818   Baby  Female  Medium  NaN   []  gd Nyx   \n",
       "1  49799666          TX1818  Adult    Male   Small  NaN   []   Rogue   \n",
       "2  49798311          TX1818  Young    Male   Small  NaN   []    Todd   \n",
       "3  49798148          TX1818  Young    Male   Small  NaN   []  O'Ryan   \n",
       "4  49794961          TX1207  Young  Female  Medium  NaN   []  Sophia   \n",
       "\n",
       "                                         description   status  ...  \\\n",
       "0  You can fill out an adoption application onlin...  adopted  ...   \n",
       "1  You can fill out an adoption application onlin...  adopted  ...   \n",
       "2  You can fill out an adoption application onlin...  adopted  ...   \n",
       "3  You can fill out an adoption application onlin...  adopted  ...   \n",
       "4  ** This dog is in a foster home in San Antonio...  adopted  ...   \n",
       "\n",
       "  colors.primary attributes.spayed_neutered  attributes.house_trained  \\\n",
       "0            NaN                       True                     False   \n",
       "1            NaN                       True                      True   \n",
       "2            NaN                       True                      True   \n",
       "3            NaN                       True                     False   \n",
       "4            NaN                       True                     False   \n",
       "\n",
       "  special_needs shots_current  contact.address.city  contact.address.postcode  \\\n",
       "0         False         False            Pipe Creek                     78063   \n",
       "1         False         False            Pipe Creek                     78063   \n",
       "2         False          True            Pipe Creek                     78063   \n",
       "3         False         False            Pipe Creek                     78063   \n",
       "4         False          True               Helotes                     78023   \n",
       "\n",
       "   animal_id  organization_id.1                         name_y  \n",
       "0   49799665             TX1818                 A Doggie 4 You  \n",
       "1   49799666             TX1818                 A Doggie 4 You  \n",
       "2   49798311             TX1818                 A Doggie 4 You  \n",
       "3   49798148             TX1818                 A Doggie 4 You  \n",
       "4   49794961             TX1207  San Antonio Great Dane Rescue  \n",
       "\n",
       "[5 rows x 24 columns]"
      ]
     },
     "execution_count": 114,
     "metadata": {},
     "output_type": "execute_result"
    }
   ],
   "source": [
    "#import pandas as pd\n",
    "#import numpy\n",
    "#import matplotlib as plt\n",
    "%matplotlib inline\n",
    "import matplotlib.pyplot as plt\n",
    "import pandas as pd\n",
    "import numpy as np\n",
    "from scipy import stats\n",
    "from scipy.stats import linregress\n",
    "\n",
    "#attatch the CSV file \n",
    "\n",
    "csvfile = '/Users/miguelvelez/Desktop/merged_data.csv'\n",
    "\n",
    "df = pd.read_csv(csvfile)\n",
    "\n",
    "pet_data.head()"
   ]
  },
  {
   "cell_type": "code",
   "execution_count": 115,
   "metadata": {},
   "outputs": [
    {
     "data": {
      "text/plain": [
       "True     5725\n",
       "False    1791\n",
       "Name: shots_current, dtype: int64"
      ]
     },
     "execution_count": 115,
     "metadata": {},
     "output_type": "execute_result"
    }
   ],
   "source": [
    "#find out the number of pets with shots vs pets without shots: the value is: attributes.shots_current\n",
    "df.shots_current.value_counts()\n",
    "\n",
    "\n",
    "#vaccinated = len(pet_data[\"shots_current\"].count())\n",
    "#print(vaccinated)\n"
   ]
  },
  {
   "cell_type": "code",
   "execution_count": 116,
   "metadata": {},
   "outputs": [
    {
     "data": {
      "text/plain": [
       "1791"
      ]
     },
     "execution_count": 116,
     "metadata": {},
     "output_type": "execute_result"
    }
   ],
   "source": [
    "df.shots_current.value_counts().loc[False]\n",
    "\n"
   ]
  },
  {
   "cell_type": "code",
   "execution_count": 117,
   "metadata": {},
   "outputs": [
    {
     "data": {
      "text/plain": [
       "5725"
      ]
     },
     "execution_count": 117,
     "metadata": {},
     "output_type": "execute_result"
    }
   ],
   "source": [
    "df.shots_current.value_counts().loc[True]\n"
   ]
  },
  {
   "cell_type": "code",
   "execution_count": 118,
   "metadata": {},
   "outputs": [
    {
     "data": {
      "text/html": [
       "<div>\n",
       "<style scoped>\n",
       "    .dataframe tbody tr th:only-of-type {\n",
       "        vertical-align: middle;\n",
       "    }\n",
       "\n",
       "    .dataframe tbody tr th {\n",
       "        vertical-align: top;\n",
       "    }\n",
       "\n",
       "    .dataframe thead th {\n",
       "        text-align: right;\n",
       "    }\n",
       "</style>\n",
       "<table border=\"1\" class=\"dataframe\">\n",
       "  <thead>\n",
       "    <tr style=\"text-align: right;\">\n",
       "      <th></th>\n",
       "      <th>shots_current</th>\n",
       "    </tr>\n",
       "    <tr>\n",
       "      <th>shots_current</th>\n",
       "      <th></th>\n",
       "    </tr>\n",
       "  </thead>\n",
       "  <tbody>\n",
       "    <tr>\n",
       "      <th>False</th>\n",
       "      <td>1791</td>\n",
       "    </tr>\n",
       "    <tr>\n",
       "      <th>True</th>\n",
       "      <td>5725</td>\n",
       "    </tr>\n",
       "  </tbody>\n",
       "</table>\n",
       "</div>"
      ],
      "text/plain": [
       "               shots_current\n",
       "shots_current               \n",
       "False                   1791\n",
       "True                    5725"
      ]
     },
     "execution_count": 118,
     "metadata": {},
     "output_type": "execute_result"
    }
   ],
   "source": [
    "#make the data frame for the above findings\n",
    "\n",
    "shot_data = pet_data.groupby('shots_current')\n",
    "\n",
    "shot_data_count = pd.DataFrame(shot_data['shots_current'].count())\n",
    "\n",
    "#view\n",
    "\n",
    "shot_data_count.head()"
   ]
  },
  {
   "cell_type": "code",
   "execution_count": 119,
   "metadata": {},
   "outputs": [
    {
     "data": {
      "image/png": "[encoded data removed]",
      "text/plain": [
       "<Figure size 432x288 with 1 Axes>"
      ]
     },
     "metadata": {},
     "output_type": "display_data"
    }
   ],
   "source": [
    "\n",
    "\n",
    "#shot_data_count.plot(kind='pie', shadow = True, startangle=140, figsize=(6,4), aitopct= '%1.1f%%')\n",
    "#plot.axis(\"equal\")\n",
    "#plot.show()\n",
    "\n",
    "#pandas pie\n",
    "shot_data_count.plot(kind='pie', subplots= True, title=\"Vaccinated vs. Not Vaccinated\",startangle=140,\\\n",
    "                        autopct='%1.1f%%',shadow=True, fontsize=16, colors =[\"yellow\",\"red\"],legend =False)\n",
    "# Make the axis equal to avoid plotting an egg shaped pie chart\n",
    "plt.axis(\"equal\")\n",
    "#plt.savefig(\"figures/PandaPieChart.png\")\n",
    "plt.show()\n"
   ]
  },
  {
   "cell_type": "code",
   "execution_count": 120,
   "metadata": {},
   "outputs": [
    {
     "name": "stdout",
     "output_type": "stream",
     "text": [
      "---------------------------------------\n",
      "Total Numer Of Shelters\n",
      "123\n",
      "---------------------------------------\n"
     ]
    }
   ],
   "source": [
    "total_shelters= len(pet_data[\"organization_id\"].unique())\n",
    "print('---------------------------------------')\n",
    "print(\"Total Numer Of Shelters\")\n",
    "print(total_shelters)\n",
    "print('---------------------------------------')"
   ]
  },
  {
   "cell_type": "code",
   "execution_count": 121,
   "metadata": {},
   "outputs": [
    {
     "name": "stdout",
     "output_type": "stream",
     "text": [
      "                 organization_id.1\n",
      "organization_id                   \n",
      "TX1002                           8\n",
      "TX1006                           8\n",
      "TX1030                          66\n",
      "TX1053                           1\n",
      "TX1054                           1\n",
      "...                            ...\n",
      "TX95                           259\n",
      "TX953                          129\n",
      "TX979                          142\n",
      "TX988                          668\n",
      "TX993                          140\n",
      "\n",
      "[123 rows x 1 columns]\n"
     ]
    },
    {
     "data": {
      "text/plain": [
       "organization_id.1    668\n",
       "dtype: int64"
      ]
     },
     "execution_count": 121,
     "metadata": {},
     "output_type": "execute_result"
    }
   ],
   "source": [
    "#shelter_size= pet_data.groupby(\"organization_id\")\n",
    "\n",
    "shelter_size_count= pd.DataFrame(shelter_size[\"organization_id.1\"].count())\n",
    "\n",
    "print(shelter_size_count)\n",
    "shelter_size_count.max()\n"
   ]
  },
  {
   "cell_type": "code",
   "execution_count": 122,
   "metadata": {},
   "outputs": [
    {
     "name": "stdout",
     "output_type": "stream",
     "text": [
      "--------------------------------------------------------\n",
      "Number of dogs associated with Largest Shelter: 668\n",
      "Largest Shelter: SNIPSA.inc\n",
      "--------------------------------------------------------\n"
     ]
    }
   ],
   "source": [
    "print('--------------------------------------------------------')\n",
    "print(\"Number of dogs associated with Largest Shelter: 668\")\n",
    "print(\"Largest Shelter: SNIPSA.inc\")\n",
    "print('--------------------------------------------------------')"
   ]
  },
  {
   "cell_type": "code",
   "execution_count": 123,
   "metadata": {},
   "outputs": [
    {
     "data": {
      "text/html": [
       "<div>\n",
       "<style scoped>\n",
       "    .dataframe tbody tr th:only-of-type {\n",
       "        vertical-align: middle;\n",
       "    }\n",
       "\n",
       "    .dataframe tbody tr th {\n",
       "        vertical-align: top;\n",
       "    }\n",
       "\n",
       "    .dataframe thead th {\n",
       "        text-align: right;\n",
       "    }\n",
       "</style>\n",
       "<table border=\"1\" class=\"dataframe\">\n",
       "  <thead>\n",
       "    <tr style=\"text-align: right;\">\n",
       "      <th></th>\n",
       "      <th>id.1</th>\n",
       "      <th>organization_id</th>\n",
       "      <th>age</th>\n",
       "      <th>gender</th>\n",
       "      <th>size</th>\n",
       "      <th>coat</th>\n",
       "      <th>tags</th>\n",
       "      <th>name_x</th>\n",
       "      <th>description</th>\n",
       "      <th>status</th>\n",
       "      <th>...</th>\n",
       "      <th>colors.primary</th>\n",
       "      <th>attributes.spayed_neutered</th>\n",
       "      <th>attributes.house_trained</th>\n",
       "      <th>special_needs</th>\n",
       "      <th>shots_current</th>\n",
       "      <th>contact.address.city</th>\n",
       "      <th>contact.address.postcode</th>\n",
       "      <th>animal_id</th>\n",
       "      <th>organization_id.1</th>\n",
       "      <th>name_y</th>\n",
       "    </tr>\n",
       "  </thead>\n",
       "  <tbody>\n",
       "    <tr>\n",
       "      <th>0</th>\n",
       "      <td>49774956</td>\n",
       "      <td>TX988</td>\n",
       "      <td>Baby</td>\n",
       "      <td>Female</td>\n",
       "      <td>Medium</td>\n",
       "      <td>Short</td>\n",
       "      <td>['Playful', 'energetic', 'loving', 'happy', 'l...</td>\n",
       "      <td>Robin</td>\n",
       "      <td>Have you met… Robin?\\n\\nRobin comes from a lit...</td>\n",
       "      <td>adopted</td>\n",
       "      <td>...</td>\n",
       "      <td>Apricot / Beige</td>\n",
       "      <td>True</td>\n",
       "      <td>False</td>\n",
       "      <td>False</td>\n",
       "      <td>False</td>\n",
       "      <td>San Antonio</td>\n",
       "      <td>78209</td>\n",
       "      <td>49774956</td>\n",
       "      <td>TX988</td>\n",
       "      <td>SNIPSA Inc.</td>\n",
       "    </tr>\n",
       "    <tr>\n",
       "      <th>1</th>\n",
       "      <td>49763712</td>\n",
       "      <td>TX988</td>\n",
       "      <td>Young</td>\n",
       "      <td>Female</td>\n",
       "      <td>Medium</td>\n",
       "      <td>Short</td>\n",
       "      <td>[]</td>\n",
       "      <td>Lulu</td>\n",
       "      <td>Lulu loves you already — and you’ve only just ...</td>\n",
       "      <td>adopted</td>\n",
       "      <td>...</td>\n",
       "      <td>Brindle</td>\n",
       "      <td>True</td>\n",
       "      <td>False</td>\n",
       "      <td>False</td>\n",
       "      <td>True</td>\n",
       "      <td>San Antonio</td>\n",
       "      <td>78209</td>\n",
       "      <td>49763712</td>\n",
       "      <td>TX988</td>\n",
       "      <td>SNIPSA Inc.</td>\n",
       "    </tr>\n",
       "    <tr>\n",
       "      <th>2</th>\n",
       "      <td>49763210</td>\n",
       "      <td>TX988</td>\n",
       "      <td>Young</td>\n",
       "      <td>Female</td>\n",
       "      <td>Medium</td>\n",
       "      <td>Short</td>\n",
       "      <td>[]</td>\n",
       "      <td>Noche</td>\n",
       "      <td>Meet Noche!\\n\\nLittle Noche is a super sweet a...</td>\n",
       "      <td>adopted</td>\n",
       "      <td>...</td>\n",
       "      <td>Black</td>\n",
       "      <td>True</td>\n",
       "      <td>False</td>\n",
       "      <td>False</td>\n",
       "      <td>True</td>\n",
       "      <td>San Antonio</td>\n",
       "      <td>78209</td>\n",
       "      <td>49763210</td>\n",
       "      <td>TX988</td>\n",
       "      <td>SNIPSA Inc.</td>\n",
       "    </tr>\n",
       "    <tr>\n",
       "      <th>3</th>\n",
       "      <td>49761306</td>\n",
       "      <td>TX988</td>\n",
       "      <td>Young</td>\n",
       "      <td>Male</td>\n",
       "      <td>Large</td>\n",
       "      <td>Long</td>\n",
       "      <td>[]</td>\n",
       "      <td>REggie</td>\n",
       "      <td>Rescued with a few other wandering big dogs fr...</td>\n",
       "      <td>adopted</td>\n",
       "      <td>...</td>\n",
       "      <td>Black</td>\n",
       "      <td>True</td>\n",
       "      <td>False</td>\n",
       "      <td>False</td>\n",
       "      <td>True</td>\n",
       "      <td>San Antonio</td>\n",
       "      <td>78209</td>\n",
       "      <td>49761306</td>\n",
       "      <td>TX988</td>\n",
       "      <td>SNIPSA Inc.</td>\n",
       "    </tr>\n",
       "    <tr>\n",
       "      <th>4</th>\n",
       "      <td>49696332</td>\n",
       "      <td>TX988</td>\n",
       "      <td>Young</td>\n",
       "      <td>Female</td>\n",
       "      <td>Medium</td>\n",
       "      <td>Medium</td>\n",
       "      <td>[]</td>\n",
       "      <td>Gabby</td>\n",
       "      <td>Gabby is as sweet as her coat is white and wou...</td>\n",
       "      <td>adopted</td>\n",
       "      <td>...</td>\n",
       "      <td>White / Cream</td>\n",
       "      <td>True</td>\n",
       "      <td>False</td>\n",
       "      <td>False</td>\n",
       "      <td>True</td>\n",
       "      <td>San Antonio</td>\n",
       "      <td>78209</td>\n",
       "      <td>49696332</td>\n",
       "      <td>TX988</td>\n",
       "      <td>SNIPSA Inc.</td>\n",
       "    </tr>\n",
       "  </tbody>\n",
       "</table>\n",
       "<p>5 rows × 24 columns</p>\n",
       "</div>"
      ],
      "text/plain": [
       "       id.1 organization_id    age  gender    size    coat  \\\n",
       "0  49774956           TX988   Baby  Female  Medium   Short   \n",
       "1  49763712           TX988  Young  Female  Medium   Short   \n",
       "2  49763210           TX988  Young  Female  Medium   Short   \n",
       "3  49761306           TX988  Young    Male   Large    Long   \n",
       "4  49696332           TX988  Young  Female  Medium  Medium   \n",
       "\n",
       "                                                tags  name_x  \\\n",
       "0  ['Playful', 'energetic', 'loving', 'happy', 'l...   Robin   \n",
       "1                                                 []    Lulu   \n",
       "2                                                 []   Noche   \n",
       "3                                                 []  REggie   \n",
       "4                                                 []   Gabby   \n",
       "\n",
       "                                         description   status  ...  \\\n",
       "0  Have you met… Robin?\\n\\nRobin comes from a lit...  adopted  ...   \n",
       "1  Lulu loves you already — and you’ve only just ...  adopted  ...   \n",
       "2  Meet Noche!\\n\\nLittle Noche is a super sweet a...  adopted  ...   \n",
       "3  Rescued with a few other wandering big dogs fr...  adopted  ...   \n",
       "4  Gabby is as sweet as her coat is white and wou...  adopted  ...   \n",
       "\n",
       "    colors.primary attributes.spayed_neutered  attributes.house_trained  \\\n",
       "0  Apricot / Beige                       True                     False   \n",
       "1          Brindle                       True                     False   \n",
       "2            Black                       True                     False   \n",
       "3            Black                       True                     False   \n",
       "4    White / Cream                       True                     False   \n",
       "\n",
       "  special_needs shots_current  contact.address.city  contact.address.postcode  \\\n",
       "0         False         False           San Antonio                     78209   \n",
       "1         False          True           San Antonio                     78209   \n",
       "2         False          True           San Antonio                     78209   \n",
       "3         False          True           San Antonio                     78209   \n",
       "4         False          True           San Antonio                     78209   \n",
       "\n",
       "   animal_id  organization_id.1       name_y  \n",
       "0   49774956              TX988  SNIPSA Inc.  \n",
       "1   49763712              TX988  SNIPSA Inc.  \n",
       "2   49763210              TX988  SNIPSA Inc.  \n",
       "3   49761306              TX988  SNIPSA Inc.  \n",
       "4   49696332              TX988  SNIPSA Inc.  \n",
       "\n",
       "[5 rows x 24 columns]"
      ]
     },
     "execution_count": 123,
     "metadata": {},
     "output_type": "execute_result"
    }
   ],
   "source": [
    "\n",
    "#here I copied the largest shelter from the main file into another csv and read it in as csv2\n",
    "\n",
    "csv2= '/Users/miguelvelez/Desktop/large.csv'\n",
    "\n",
    "large= pd.read_csv(csv2)\n",
    "\n",
    "large.head()\n",
    "\n"
   ]
  },
  {
   "cell_type": "code",
   "execution_count": 124,
   "metadata": {},
   "outputs": [
    {
     "name": "stdout",
     "output_type": "stream",
     "text": [
      "                                      breeds.primary\n",
      "breeds.primary                                      \n",
      "Airedale Terrier                                   5\n",
      "American Bulldog                                   1\n",
      "Anatolian Shepherd                                 3\n",
      "Australian Cattle Dog / Blue Heeler               29\n",
      "Australian Shepherd                               14\n",
      "Basset Hound                                       6\n",
      "Beagle                                             2\n",
      "Black Mouth Cur                                    1\n",
      "Border Collie                                     29\n",
      "Boston Terrier                                     1\n",
      "Boxer                                             19\n",
      "Bull Terrier                                       1\n",
      "Catahoula Leopard Dog                             19\n",
      "Chihuahua                                         77\n",
      "Chiweenie                                          2\n",
      "Collie                                            45\n",
      "Corgi                                              5\n",
      "Dachshund                                         36\n",
      "English Bulldog                                    2\n",
      "Flat-Coated Retriever                              6\n",
      "German Shepherd Dog                                2\n",
      "Golden Retriever                                   5\n",
      "Great Dane                                         2\n",
      "Great Pyrenees                                    42\n",
      "Hound                                             33\n",
      "Husky                                             25\n",
      "Jack Russell Terrier                               9\n",
      "Labrador Retriever                                68\n",
      "Lhasa Apso                                         1\n",
      "Maltese                                            1\n",
      "Mastiff                                            1\n",
      "Miniature Schnauzer                                1\n",
      "Norfolk Terrier                                    1\n",
      "Papillon                                           1\n",
      "Pharaoh Hound                                      1\n",
      "Pit Bull Terrier                                   8\n",
      "Plott Hound                                       14\n",
      "Pointer                                            4\n",
      "Pomeranian                                         4\n",
      "Poodle                                             7\n",
      "Pug                                               13\n",
      "Rat Terrier                                        2\n",
      "Retriever                                         28\n",
      "Rhodesian Ridgeback                                1\n",
      "Schipperke                                         4\n",
      "Schnauzer                                          9\n",
      "Schnoodle                                          2\n",
      "Shar-Pei                                           2\n",
      "Shepherd                                          30\n",
      "Shetland Sheepdog / Sheltie                        3\n",
      "Shih Tzu                                           2\n",
      "Spaniel                                            1\n",
      "Terrier                                           28\n",
      "Tibetan Spaniel                                    1\n",
      "Vizsla                                             1\n",
      "West Highland White Terrier / Westie               1\n",
      "Wheaten Terrier                                    2\n",
      "Whippet                                            1\n",
      "Wirehaired Dachshund                               1\n",
      "Yorkshire Terrier                                  3\n"
     ]
    }
   ],
   "source": [
    "breeds=large.groupby(\"breeds.primary\")\n",
    "\n",
    "breeds_count= pd.DataFrame(breeds[\"breeds.primary\"].count())\n",
    "print(breeds_count)\n",
    "#print(breeds)\n"
   ]
  },
  {
   "cell_type": "code",
   "execution_count": 149,
   "metadata": {},
   "outputs": [
    {
     "data": {
      "text/plain": [
       "breeds.primary    668\n",
       "dtype: int64"
      ]
     },
     "execution_count": 149,
     "metadata": {},
     "output_type": "execute_result"
    }
   ],
   "source": [
    "breeds_count.max()\n",
    "breeds_count.sum()"
   ]
  },
  {
   "cell_type": "code",
   "execution_count": 129,
   "metadata": {},
   "outputs": [
    {
     "name": "stdout",
     "output_type": "stream",
     "text": [
      "------------------------------\n",
      "Most common breed: Chihuahua\n",
      "------------------------------\n"
     ]
    }
   ],
   "source": [
    "print('------------------------------')\n",
    "print(\"Most common breed: Chihuahua\")\n",
    "print('------------------------------')\n"
   ]
  },
  {
   "cell_type": "code",
   "execution_count": 130,
   "metadata": {},
   "outputs": [
    {
     "data": {
      "text/plain": [
       "Female    339\n",
       "Male      329\n",
       "Name: gender, dtype: int64"
      ]
     },
     "execution_count": 130,
     "metadata": {},
     "output_type": "execute_result"
    }
   ],
   "source": [
    "#Genders for the above data set\n",
    "genders= large.loc[:, \"gender\"]\n",
    "gender_tx = genders.value_counts()\n",
    "gender_tx\n",
    "\n",
    "\n"
   ]
  },
  {
   "cell_type": "code",
   "execution_count": 134,
   "metadata": {},
   "outputs": [
    {
     "data": {
      "text/html": [
       "<div>\n",
       "<style scoped>\n",
       "    .dataframe tbody tr th:only-of-type {\n",
       "        vertical-align: middle;\n",
       "    }\n",
       "\n",
       "    .dataframe tbody tr th {\n",
       "        vertical-align: top;\n",
       "    }\n",
       "\n",
       "    .dataframe thead th {\n",
       "        text-align: right;\n",
       "    }\n",
       "</style>\n",
       "<table border=\"1\" class=\"dataframe\">\n",
       "  <thead>\n",
       "    <tr style=\"text-align: right;\">\n",
       "      <th></th>\n",
       "      <th>gender</th>\n",
       "    </tr>\n",
       "    <tr>\n",
       "      <th>gender</th>\n",
       "      <th></th>\n",
       "    </tr>\n",
       "  </thead>\n",
       "  <tbody>\n",
       "    <tr>\n",
       "      <th>Female</th>\n",
       "      <td>339</td>\n",
       "    </tr>\n",
       "    <tr>\n",
       "      <th>Male</th>\n",
       "      <td>329</td>\n",
       "    </tr>\n",
       "  </tbody>\n",
       "</table>\n",
       "</div>"
      ],
      "text/plain": [
       "        gender\n",
       "gender        \n",
       "Female     339\n",
       "Male       329"
      ]
     },
     "execution_count": 134,
     "metadata": {},
     "output_type": "execute_result"
    }
   ],
   "source": [
    "gender_data = large.groupby('gender')\n",
    "\n",
    "gender_data_count = pd.DataFrame(gender_data['gender'].count())\n",
    "\n",
    "#view\n",
    "\n",
    "gender_data_count.head()"
   ]
  },
  {
   "cell_type": "code",
   "execution_count": 138,
   "metadata": {},
   "outputs": [
    {
     "data": {
      "image/png": "[encoded data removed]",
      "text/plain": [
       "<Figure size 432x288 with 1 Axes>"
      ]
     },
     "metadata": {},
     "output_type": "display_data"
    }
   ],
   "source": [
    "gender_data_count.plot(kind='pie', subplots= True, title=\"Genders\",startangle=140,\\\n",
    "                        autopct='%1.1f%%',shadow=True, fontsize=16, colors =[\"aqua\",\"orange\"],legend =False)\n",
    "# Make the axis equal to avoid plotting an egg shaped pie chart\n",
    "plt.axis(\"equal\")\n",
    "#plt.savefig(\"figures/PandaPieChart.png\")\n",
    "plt.show()\n"
   ]
  },
  {
   "cell_type": "code",
   "execution_count": 140,
   "metadata": {},
   "outputs": [
    {
     "data": {
      "text/html": [
       "<div>\n",
       "<style scoped>\n",
       "    .dataframe tbody tr th:only-of-type {\n",
       "        vertical-align: middle;\n",
       "    }\n",
       "\n",
       "    .dataframe tbody tr th {\n",
       "        vertical-align: top;\n",
       "    }\n",
       "\n",
       "    .dataframe thead th {\n",
       "        text-align: right;\n",
       "    }\n",
       "</style>\n",
       "<table border=\"1\" class=\"dataframe\">\n",
       "  <thead>\n",
       "    <tr style=\"text-align: right;\">\n",
       "      <th></th>\n",
       "      <th>shots_current</th>\n",
       "    </tr>\n",
       "    <tr>\n",
       "      <th>shots_current</th>\n",
       "      <th></th>\n",
       "    </tr>\n",
       "  </thead>\n",
       "  <tbody>\n",
       "    <tr>\n",
       "      <th>False</th>\n",
       "      <td>11</td>\n",
       "    </tr>\n",
       "    <tr>\n",
       "      <th>True</th>\n",
       "      <td>657</td>\n",
       "    </tr>\n",
       "  </tbody>\n",
       "</table>\n",
       "</div>"
      ],
      "text/plain": [
       "               shots_current\n",
       "shots_current               \n",
       "False                     11\n",
       "True                     657"
      ]
     },
     "execution_count": 140,
     "metadata": {},
     "output_type": "execute_result"
    }
   ],
   "source": [
    "#make the data frame for vaccinated\n",
    "\n",
    "shot_data2 = large.groupby('shots_current')\n",
    "\n",
    "shot_data2_count = pd.DataFrame(shot_data2['shots_current'].count())\n",
    "\n",
    "#view\n",
    "\n",
    "shot_data2_count.head()"
   ]
  },
  {
   "cell_type": "code",
   "execution_count": 148,
   "metadata": {},
   "outputs": [
    {
     "data": {
      "image/png": "[encoded data removed]",
      "text/plain": [
       "<Figure size 432x288 with 1 Axes>"
      ]
     },
     "metadata": {},
     "output_type": "display_data"
    }
   ],
   "source": [
    "#pandas pie\n",
    "shot_data2_count.plot(kind='pie', subplots= True, title=\"Vaccinated vs. Not Vaccinated\",startangle=140,\\\n",
    "                        autopct='%1.1f%%',shadow=True, fontsize=16, colors =[\"yellow\",\"lightblue\"],legend =False)\n",
    "# Make the axis equal to avoid plotting an egg shaped pie chart\n",
    "plt.axis(\"equal\")\n",
    "#plt.savefig(\"figures/PandaPieChart.png\")\n",
    "plt.show()\n"
   ]
  },
  {
   "cell_type": "code",
   "execution_count": null,
   "metadata": {},
   "outputs": [],
   "source": []
  },
  {
   "cell_type": "code",
   "execution_count": null,
   "metadata": {},
   "outputs": [],
   "source": []
  }
 ],
 "metadata": {
  "kernelspec": {
   "display_name": "Python 3",
   "language": "python",
   "name": "python3"
  },
  "language_info": {
   "codemirror_mode": {
    "name": "ipython",
    "version": 3
   },
   "file_extension": ".py",
   "mimetype": "text/x-python",
   "name": "python",
   "nbconvert_exporter": "python",
   "pygments_lexer": "ipython3",
   "version": "3.8.3"
  }
 },
 "nbformat": 4,
 "nbformat_minor": 4
}
